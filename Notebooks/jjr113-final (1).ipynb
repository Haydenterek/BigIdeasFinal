{
 "cells": [
  {
   "cell_type": "markdown",
   "metadata": {},
   "source": [
    "# CMPINF0010 Lab Final Project\n",
    "## Police Incidents Per Neighborhood (updated since January 1st, 2016)\n"
   ]
  },
  {
   "cell_type": "code",
   "execution_count": 3,
   "metadata": {},
   "outputs": [
    {
     "name": "stdout",
     "output_type": "stream",
     "text": [
      "-----------------Number of Incidents since 1/1/16-----------------\n",
      "\n",
      "\t\t North Shore =  1454 incidents\n",
      "\t\t Upper Lawrenceville =  459 incidents\n",
      "\t\t Northview Heights =  985 incidents\n",
      "\t\t Golden Triangle/Civic Arena =  4278 incidents\n",
      "\t\t South Side Flats =  7530 incidents\n",
      "\t\t Elliott =  783 incidents\n",
      "\t\t Homewood North =  2182 incidents\n",
      "\t\t South Side Slopes =  1305 incidents\n",
      "\t\t Carrick =  4117 incidents\n",
      "\t\t South Oakland =  712 incidents\n",
      "\t\t Bloomfield =  3847 incidents\n",
      "\t\t Beechview =  1629 incidents\n",
      "\t\t Bluff =  1303 incidents\n",
      "\t\t Strip District =  951 incidents\n",
      "\t\t Mount Washington =  2191 incidents\n",
      "\t\t East Carnegie =  199 incidents\n",
      "\t\t Crafton Heights =  747 incidents\n",
      "\t\t Marshall-Shadeland =  1658 incidents\n",
      "\t\t East Liberty =  2310 incidents\n",
      "\t\t East Allegheny =  1934 incidents\n",
      "\t\t Friendship =  760 incidents\n",
      "\t\t Arlington =  864 incidents\n",
      "\t\t Central Northside =  786 incidents\n",
      "\t\t Spring Hill-City View =  778 incidents\n",
      "\t\t Brighton Heights =  2391 incidents\n",
      "\t\t Westwood =  677 incidents\n",
      "\t\t East Hills =  1948 incidents\n",
      "\t\t Brookline =  2098 incidents\n",
      "\t\t South Shore =  379 incidents\n",
      "\t\t Lower Lawrenceville =  1010 incidents\n",
      "\t\t Bedford Dwellings =  728 incidents\n",
      "\t\t Troy Hill-Herrs Island =  252 incidents\n",
      "\t\t Central Oakland =  2473 incidents\n",
      "\t\t Garfield =  991 incidents\n",
      "\t\t West End =  346 incidents\n",
      "\t\t West Oakland =  708 incidents\n",
      "\t\t Central Lawrenceville =  1757 incidents\n",
      "\t\t Lincoln-Lemington-Belmar =  2587 incidents\n",
      "\t\t Sheraden =  1630 incidents\n",
      "\t\t Beltzhoover =  587 incidents\n",
      "\t\t Outside City =  1012 incidents\n",
      "\t\t Squirrel Hill South =  2530 incidents\n",
      "\t\t North Oakland =  2021 incidents\n",
      "\t\t Allentown =  2041 incidents\n",
      "\t\t Perry North =  1273 incidents\n",
      "\t\t Homewood South =  2901 incidents\n",
      "\t\t Shadyside =  3058 incidents\n",
      "\t\t Manchester =  662 incidents\n",
      "\t\t Squirrel Hill North =  1561 incidents\n",
      "\t\t Regent Square =  252 incidents\n",
      "\t\t Homewood West =  1198 incidents\n",
      "\t\t Allegheny Center =  1350 incidents\n",
      "\t\t Highland Park =  1841 incidents\n",
      "\t\t Middle Hill =  1408 incidents\n",
      "\t\t Overbrook =  605 incidents\n",
      "\t\t Hazelwood =  1657 incidents\n",
      "\t\t Greenfield =  996 incidents\n",
      "\t\t Morningside =  446 incidents\n",
      "\t\t Knoxville =  2655 incidents\n",
      "\t\t Point Breeze =  1239 incidents\n",
      "\t\t Duquesne Heights =  301 incidents\n",
      "\t\t Perry South =  1101 incidents\n",
      "\t\t California-Kirkbride =  502 incidents\n",
      "\t\t Banksville =  549 incidents\n",
      "\t\t Point Breeze North =  1058 incidents\n",
      "\t\t Bon Air =  451 incidents\n",
      "\t\t Polish Hill =  340 incidents\n",
      "\t\t Lincoln Place =  587 incidents\n",
      "\t\t Fineview =  521 incidents\n",
      "\t\t Spring Garden =  297 incidents\n",
      "\t\t Larimer =  1567 incidents\n",
      "\t\t Esplen =  178 incidents\n",
      "\t\t Terrace Village =  346 incidents\n",
      "\t\t Allegheny West =  561 incidents\n",
      "\t\t Crawford-Roberts =  1154 incidents\n",
      "\t\t Windgap =  315 incidents\n",
      "\t\t Stanton Heights =  620 incidents\n",
      "\t\t Glen Hazel =  233 incidents\n",
      "\t\t Upper Hill =  687 incidents\n",
      "\t\t Hays =  219 incidents\n",
      "\t\t Ridgemont =  155 incidents\n",
      "\t\t Oakwood =  222 incidents\n",
      "\t\t Outside State =  81 incidents\n",
      "\t\t Chateau =  709 incidents\n",
      "\t\t Swisshelm Park =  151 incidents\n",
      "\t\t Outside County =  72 incidents\n",
      "\t\t Fairywood =  278 incidents\n",
      "\t\t Chartiers City =  69 incidents\n",
      "\t\t Arlington Heights =  184 incidents\n",
      "\t\t St. Clair =  477 incidents\n",
      "\t\t Summer Hill =  191 incidents\n",
      "\t\t Mt. Oliver Neighborhood =  117 incidents\n",
      "\t\t New Homestead =  114 incidents\n",
      "\t\t Mt. Oliver Boro =  29 incidents\n",
      "\t\t Central Business District =  3486 incidents\n",
      "\t\t Troy Hill =  551 incidents\n",
      "\t\t Central North Side =  732 incidents\n",
      "\t\t Mount Oliver =  130 incidents\n"
     ]
    }
   ],
   "source": [
    "import pandas as pd;\n",
    "import math;\n",
    "\n",
    "incidents = pd.read_csv(\"Incidents.csv\")\n",
    "neighborhoods = incidents[\"INCIDENTNEIGHBORHOOD\"].unique()\n",
    "numIncidents = []\n",
    "cleanedList = [x for x in neighborhoods if str(x) != 'nan']\n",
    "\n",
    "for n in neighborhoods:\n",
    "    query_mask = incidents['INCIDENTNEIGHBORHOOD'] == n\n",
    "    inc = incidents[query_mask]\n",
    "    numIncidents.append(len(inc.index))\n",
    "\n",
    "cleanedNumList = [x for x in numIncidents if x != 0]\n",
    "\n",
    "print(\"-----------------Number of Incidents since 1/1/16-----------------\\n\")\n",
    "for hood, num in zip(cleanedList, cleanedNumList):\n",
    "    print ('\\t\\t', hood, \"= \", num, \"incidents\")"
   ]
  },
  {
   "cell_type": "markdown",
   "metadata": {},
   "source": [
    "## Best Neighborhood (Least amount of Incidents)"
   ]
  },
  {
   "cell_type": "code",
   "execution_count": 4,
   "metadata": {},
   "outputs": [
    {
     "name": "stdout",
     "output_type": "stream",
     "text": [
      "Neighborhood with least amount of incidents =  Mt. Oliver Boro\n",
      "with 29 incidents since 1/1/16.\n"
     ]
    }
   ],
   "source": [
    "\n",
    "minValue = min(cleanedNumList)\n",
    "indexMin = numIncidents.index(minValue)\n",
    "print (\"Neighborhood with least amount of incidents = \", cleanedList[indexMin-1])\n",
    "print(\"with\", minValue, \"incidents since 1/1/16.\")"
   ]
  },
  {
   "cell_type": "markdown",
   "metadata": {},
   "source": [
    "## Worst Neighborhood (Most amount of Incidents)"
   ]
  },
  {
   "cell_type": "code",
   "execution_count": 5,
   "metadata": {},
   "outputs": [
    {
     "name": "stdout",
     "output_type": "stream",
     "text": [
      "Neighborhood with most amount of incidents =  South Side Flats\n",
      "with 7530 incidents since 1/1/16.\n"
     ]
    }
   ],
   "source": [
    "maxValue = max(cleanedNumList)\n",
    "indexMax = numIncidents.index(maxValue)\n",
    "print (\"Neighborhood with most amount of incidents = \", cleanedList[indexMax])\n",
    "print(\"with\", maxValue, \"incidents since 1/1/16.\")"
   ]
  },
  {
   "cell_type": "markdown",
   "metadata": {},
   "source": [
    "## Amount of Burglaries per Neighborhood (Ascending)"
   ]
  },
  {
   "cell_type": "code",
   "execution_count": 24,
   "metadata": {},
   "outputs": [
    {
     "data": {
      "text/plain": [
       "Mt. Oliver Boro       1\n",
       "Ridgemont             2\n",
       "South Shore           3\n",
       "Chartiers City        3\n",
       "New Homestead         4\n",
       "                   ... \n",
       "Central Oakland     193\n",
       "Homewood South      196\n",
       "Bloomfield          201\n",
       "South Side Flats    211\n",
       "Carrick             242\n",
       "Name: INCIDENTNEIGHBORHOOD, Length: 96, dtype: int64"
      ]
     },
     "execution_count": 24,
     "metadata": {},
     "output_type": "execute_result"
    }
   ],
   "source": [
    "burg = incidents[[\"INCIDENTNEIGHBORHOOD\", 'INCIDENTHIERARCHYDESC']]\n",
    "contain_values = burg[burg['INCIDENTHIERARCHYDESC'].str.contains('BURGLARY', na = False)]\n",
    "contain_values=contain_values['INCIDENTNEIGHBORHOOD'].value_counts(ascending=True)"
   ]
  },
  {
   "cell_type": "markdown",
   "metadata": {},
   "source": [
    "## Best Neighborhood (According to least amount of total incidents and least amount of Burglaries)"
   ]
  },
  {
   "cell_type": "markdown",
   "metadata": {},
   "source": [
    "According to my research, **Mt. Oliver Boro** is the safest neighborhood since it has the least amount of total incidents and least amount of Burglaries. I believe the total number of incidents is a very important metric for a neighborhood to be \"safe\" because the more the action in a neighborhood, the less amount of attraction for a family looking to live in a quiet/safe neighborhood. The reason I chose burglaries as an extra metric to use is because there are incidents that are worse than others and when looking for a safe neighborhood to live in, most people would like there to be a low burglary rate."
   ]
  },
  {
   "cell_type": "markdown",
   "metadata": {},
   "source": [
    "## Data Limitations"
   ]
  },
  {
   "cell_type": "markdown",
   "metadata": {},
   "source": [
    "1. Some incidents could be not registered or not accounted for resulting in this data set not being fully accurate."
   ]
  },
  {
   "cell_type": "code",
   "execution_count": null,
   "metadata": {},
   "outputs": [],
   "source": []
  }
 ],
 "metadata": {
  "kernelspec": {
   "display_name": "Python 3",
   "language": "python",
   "name": "python3"
  },
  "language_info": {
   "codemirror_mode": {
    "name": "ipython",
    "version": 3
   },
   "file_extension": ".py",
   "mimetype": "text/x-python",
   "name": "python",
   "nbconvert_exporter": "python",
   "pygments_lexer": "ipython3",
   "version": "3.8.3"
  }
 },
 "nbformat": 4,
 "nbformat_minor": 4
}
