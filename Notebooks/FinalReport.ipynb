{
 "cells": [
  {
   "cell_type": "markdown",
   "metadata": {},
   "source": [
    "# Final Report, The Best Neighborhood in Pittsburgh"
   ]
  },
  {
   "cell_type": "markdown",
   "metadata": {},
   "source": [
    "## Introduction\n",
    "\n",
    "When looking for places to live there are many things to take into account. These can be **crime rates**, **housing cost**, **health conditions**, and more. For each person, their reason for picking a neighborhood will vary depending on their needs. In our report, we attempted to take some of the most common metrics and use them to determine the best neighborhood in Pittsburgh. \n",
    "\n",
    "---"
   ]
  },
  {
   "cell_type": "markdown",
   "metadata": {},
   "source": [
    "## The Metric\n",
    "\n",
    "For our metric, we will be combining the three individual metrics we used for our notebooks. These include the **cost of housing**, **police incidents**, and **firearm seizures**. "
   ]
  },
  {
   "cell_type": "markdown",
   "metadata": {},
   "source": [
    "### Cost of Housing\n",
    "\n",
    "This data set contains transactions of properties that were sold throughout Pittsburgh. We then determine the average cost of housing in the area, and rank them based on highest to lowest."
   ]
  },
  {
   "cell_type": "code",
   "execution_count": 1,
   "metadata": {},
   "outputs": [
    {
     "name": "stdout",
     "output_type": "stream",
     "text": [
      "COUNTY WITH HIGHEST HOUSING COST: 2nd Ward - PITTSBURGH at $1408401.77\n",
      "COUNTY WITH LOWEST HOUSING COST:  3rd Ward  - DUQUESNE at $ 25142.02\n"
     ]
    }
   ],
   "source": [
    "# Load pandas\n",
    "import pandas as pd\n",
    "\n",
    "# Data set gives off some warnings due to how to was created\n",
    "# this is used to turn those warnings off.\n",
    "import warnings\n",
    "warnings.filterwarnings('ignore')\n",
    "\n",
    "# Load Data\n",
    "property_sales = pd.read_csv(\"Allegheny County Property Sale Transactions.csv\",\n",
    "                            index_col = \"MUNIDESC\")\n",
    "\n",
    "# Data set is full of some houses that were labeled as being\n",
    "# sold for 1 or 0. These are removed to allow for the\n",
    "# calculations to be more accurate. \n",
    "property_sales = property_sales[property_sales.PRICE != 0]\n",
    "property_sales = property_sales[property_sales.PRICE != 1]\n",
    "property_sales = property_sales.sort_values('MUNICODE')\n",
    "\n",
    "# Sort the data by the municipality and then group by the\n",
    "# average price of found for each municipality\n",
    "property_sales_groupby = property_sales.groupby('MUNIDESC')['PRICE'].mean()\n",
    "\n",
    "print('COUNTY WITH HIGHEST HOUSING COST:', property_sales_groupby.idxmax(),'at $' + str(round(property_sales_groupby.max(), 2)))\n",
    "print('COUNTY WITH LOWEST HOUSING COST: ', property_sales_groupby.idxmin(), 'at $ ' + str(round(property_sales_groupby.min(),2)))"
   ]
  },
  {
   "cell_type": "markdown",
   "metadata": {},
   "source": [
    "Data limitations:\n",
    "   * Listed by counties, not neighborhoods\n",
    "   * County lines may create differences\n",
    "   * Housing cost depends on what is in surrounding area too\n",
    "   \n",
    "Housing cost alone cannot be enough to determine the best neighborhood, but it can be used with other metrics to find the best. With this, we used housing cost to narrow down our search for which neighborhood ranks the highest among others in Pittsburgh.\n",
    "\n",
    "---"
   ]
  },
  {
   "cell_type": "markdown",
   "metadata": {},
   "source": [
    "### Police Incidents"
   ]
  },
  {
   "cell_type": "markdown",
   "metadata": {},
   "source": [
    "This data set depicts every police-reported incident in the Pittsburgh region. From here, we list out all neighborhoods and their total number of incidents, resulting in finding the neighborhood with the lowest total number of incidents and number of burglaries for each neighborhood."
   ]
  },
  {
   "cell_type": "code",
   "execution_count": 2,
   "metadata": {},
   "outputs": [
    {
     "name": "stdout",
     "output_type": "stream",
     "text": [
      "-----------------Number of Incidents since 1/1/16-----------------\n",
      "\n",
      "\t\t North Shore =  1454 incidents\n",
      "\t\t Upper Lawrenceville =  459 incidents\n",
      "\t\t Northview Heights =  985 incidents\n",
      "\t\t Golden Triangle/Civic Arena =  4278 incidents\n",
      "\t\t South Side Flats =  7530 incidents\n",
      "\t\t Elliott =  783 incidents\n",
      "\t\t Homewood North =  2182 incidents\n",
      "\t\t South Side Slopes =  1305 incidents\n",
      "\t\t Carrick =  4117 incidents\n",
      "\t\t South Oakland =  712 incidents\n",
      "\t\t Bloomfield =  3847 incidents\n",
      "\t\t Beechview =  1629 incidents\n",
      "\t\t Bluff =  1303 incidents\n",
      "\t\t Strip District =  951 incidents\n",
      "\t\t Mount Washington =  2191 incidents\n",
      "\t\t East Carnegie =  199 incidents\n",
      "\t\t Crafton Heights =  747 incidents\n",
      "\t\t Marshall-Shadeland =  1658 incidents\n",
      "\t\t East Liberty =  2310 incidents\n",
      "\t\t East Allegheny =  1934 incidents\n",
      "\t\t Friendship =  760 incidents\n",
      "\t\t Arlington =  864 incidents\n",
      "\t\t Central Northside =  786 incidents\n",
      "\t\t Spring Hill-City View =  778 incidents\n",
      "\t\t Brighton Heights =  2391 incidents\n",
      "\t\t Westwood =  677 incidents\n",
      "\t\t East Hills =  1948 incidents\n",
      "\t\t Brookline =  2098 incidents\n",
      "\t\t South Shore =  379 incidents\n",
      "\t\t Lower Lawrenceville =  1010 incidents\n",
      "\t\t Bedford Dwellings =  728 incidents\n",
      "\t\t Troy Hill-Herrs Island =  252 incidents\n",
      "\t\t Central Oakland =  2473 incidents\n",
      "\t\t Garfield =  991 incidents\n",
      "\t\t West End =  346 incidents\n",
      "\t\t West Oakland =  708 incidents\n",
      "\t\t Central Lawrenceville =  1757 incidents\n",
      "\t\t Lincoln-Lemington-Belmar =  2587 incidents\n",
      "\t\t Sheraden =  1630 incidents\n",
      "\t\t Beltzhoover =  587 incidents\n",
      "\t\t Outside City =  1012 incidents\n",
      "\t\t Squirrel Hill South =  2530 incidents\n",
      "\t\t North Oakland =  2021 incidents\n",
      "\t\t Allentown =  2041 incidents\n",
      "\t\t Perry North =  1273 incidents\n",
      "\t\t Homewood South =  2901 incidents\n",
      "\t\t Shadyside =  3058 incidents\n",
      "\t\t Manchester =  662 incidents\n",
      "\t\t Squirrel Hill North =  1561 incidents\n",
      "\t\t Regent Square =  252 incidents\n",
      "\t\t Homewood West =  1198 incidents\n",
      "\t\t Allegheny Center =  1350 incidents\n",
      "\t\t Highland Park =  1841 incidents\n",
      "\t\t Middle Hill =  1408 incidents\n",
      "\t\t Overbrook =  605 incidents\n",
      "\t\t Hazelwood =  1657 incidents\n",
      "\t\t Greenfield =  996 incidents\n",
      "\t\t Morningside =  446 incidents\n",
      "\t\t Knoxville =  2655 incidents\n",
      "\t\t Point Breeze =  1239 incidents\n",
      "\t\t Duquesne Heights =  301 incidents\n",
      "\t\t Perry South =  1101 incidents\n",
      "\t\t California-Kirkbride =  502 incidents\n",
      "\t\t Banksville =  549 incidents\n",
      "\t\t Point Breeze North =  1058 incidents\n",
      "\t\t Bon Air =  451 incidents\n",
      "\t\t Polish Hill =  340 incidents\n",
      "\t\t Lincoln Place =  587 incidents\n",
      "\t\t Fineview =  521 incidents\n",
      "\t\t Spring Garden =  297 incidents\n",
      "\t\t Larimer =  1567 incidents\n",
      "\t\t Esplen =  178 incidents\n",
      "\t\t Terrace Village =  346 incidents\n",
      "\t\t Allegheny West =  561 incidents\n",
      "\t\t Crawford-Roberts =  1154 incidents\n",
      "\t\t Windgap =  315 incidents\n",
      "\t\t Stanton Heights =  620 incidents\n",
      "\t\t Glen Hazel =  233 incidents\n",
      "\t\t Upper Hill =  687 incidents\n",
      "\t\t Hays =  219 incidents\n",
      "\t\t Ridgemont =  155 incidents\n",
      "\t\t Oakwood =  222 incidents\n",
      "\t\t Outside State =  81 incidents\n",
      "\t\t Chateau =  709 incidents\n",
      "\t\t Swisshelm Park =  151 incidents\n",
      "\t\t Outside County =  72 incidents\n",
      "\t\t Fairywood =  278 incidents\n",
      "\t\t Chartiers City =  69 incidents\n",
      "\t\t Arlington Heights =  184 incidents\n",
      "\t\t St. Clair =  477 incidents\n",
      "\t\t Summer Hill =  191 incidents\n",
      "\t\t Mt. Oliver Neighborhood =  117 incidents\n",
      "\t\t New Homestead =  114 incidents\n",
      "\t\t Mt. Oliver Boro =  29 incidents\n",
      "\t\t Central Business District =  3486 incidents\n",
      "\t\t Troy Hill =  551 incidents\n",
      "\t\t Central North Side =  732 incidents\n",
      "\t\t Mount Oliver =  130 incidents\n",
      "\n",
      "Neighborhood with least amount of incidents =  Mt. Oliver Boro\n",
      "with 29 incidents since 1/1/16.\n",
      "\n",
      "Amount of Burglaries per Neighborhood (Acsending)\n",
      " Mt. Oliver Boro       1\n",
      "Ridgemont             2\n",
      "South Shore           3\n",
      "Chartiers City        3\n",
      "New Homestead         4\n",
      "                   ... \n",
      "Central Oakland     193\n",
      "Homewood South      196\n",
      "Bloomfield          201\n",
      "South Side Flats    211\n",
      "Carrick             242\n",
      "Name: INCIDENTNEIGHBORHOOD, Length: 96, dtype: int64\n"
     ]
    }
   ],
   "source": [
    "import pandas as pd;\n",
    "import math;\n",
    "\n",
    "incidents = pd.read_csv(\"Incidents.csv\")\n",
    "neighborhoods = incidents[\"INCIDENTNEIGHBORHOOD\"].unique()\n",
    "numIncidents = []\n",
    "cleanedList = [x for x in neighborhoods if str(x) != 'nan']\n",
    "\n",
    "for n in neighborhoods:\n",
    "    query_mask = incidents['INCIDENTNEIGHBORHOOD'] == n\n",
    "    inc = incidents[query_mask]\n",
    "    numIncidents.append(len(inc.index))\n",
    "\n",
    "cleanedNumList = [x for x in numIncidents if x != 0]\n",
    "\n",
    "print(\"-----------------Number of Incidents since 1/1/16-----------------\\n\")\n",
    "for hood, num in zip(cleanedList, cleanedNumList):\n",
    "    print ('\\t\\t', hood, \"= \", num, \"incidents\")\n",
    "\n",
    "minValue = min(cleanedNumList)\n",
    "indexMin = numIncidents.index(minValue)\n",
    "print (\"\\nNeighborhood with least amount of incidents = \", cleanedList[indexMin-1])\n",
    "print(\"with\", minValue, \"incidents since 1/1/16.\")\n",
    "\n",
    "burg = incidents[[\"INCIDENTNEIGHBORHOOD\", 'INCIDENTHIERARCHYDESC']]\n",
    "contain_values = burg[burg['INCIDENTHIERARCHYDESC'].str.contains('BURGLARY', na = False)]\n",
    "print(\"\\nAmount of Burglaries per Neighborhood (Acsending)\\n\" , contain_values['INCIDENTNEIGHBORHOOD'].value_counts(ascending=True))\n",
    "\n",
    "\n"
   ]
  },
  {
   "cell_type": "markdown",
   "metadata": {},
   "source": [
    "Data Limitations:\n",
    "   * Some incidents could be not registered or not accounted for resulting in this data set not being fully accurate.\n",
    "   \n",
    "Many could agree that incident rates and amount of burglaries in a neighborhood are big factors on whether a neighborhood is safe or not.\n",
    "\n",
    "NOTE: The data set used contain multiple severities of incidents including theft, dischard of firearm, Public Drunkeness, DUIs, etc.. \n",
    "\n",
    "---"
   ]
  },
  {
   "cell_type": "markdown",
   "metadata": {},
   "source": [
    "### Firearm Seizures\n",
    "\n",
    "This data set contains the records when police seized firearms from an individual. From here, we add the totals per neighborhood and find which had the most. "
   ]
  },
  {
   "cell_type": "code",
   "execution_count": 3,
   "metadata": {},
   "outputs": [
    {
     "name": "stdout",
     "output_type": "stream",
     "text": [
      "neighborhood\n",
      "Allegheny Center              13\n",
      "Allegheny West                16\n",
      "Allentown                     82\n",
      "Arlington                     35\n",
      "Arlington Heights             10\n",
      "Banksville                     8\n",
      "Bedford Dwellings             72\n",
      "Beechview                     79\n",
      "Beltzhoover                   43\n",
      "Bloomfield                    47\n",
      "Bluff                         49\n",
      "Bon Air                       11\n",
      "Brighton Heights             129\n",
      "Brookline                     70\n",
      "California-Kirkbride          23\n",
      "Carrick                      131\n",
      "Central Business District    110\n",
      "Central Lawrenceville         23\n",
      "Central Northside             76\n",
      "Central Oakland               18\n",
      "Chartiers City                 4\n",
      "Chateau                       22\n",
      "Crafton Heights               52\n",
      "Crawford-Roberts              47\n",
      "Duquesne Heights              17\n",
      "East Allegheny                47\n",
      "East Hills                   107\n",
      "East Liberty                 138\n",
      "Elliott                       52\n",
      "Esplen                         9\n",
      "Fairywood                      7\n",
      "Fineview                      58\n",
      "Friendship                     5\n",
      "Garfield                      82\n",
      "Glen Hazel                    14\n",
      "Greenfield                    22\n",
      "Hays                           6\n",
      "Hazelwood                    129\n",
      "Highland Park                 38\n",
      "Homewood North               138\n",
      "Homewood South               298\n",
      "Homewood West                 51\n",
      "Knoxville                     94\n",
      "Larimer                      116\n",
      "Lincoln Place                  6\n",
      "Lincoln-Lemington-Belmar     118\n",
      "Lower Lawrenceville           15\n",
      "Manchester                    66\n",
      "Marshall-Shadeland           122\n",
      "Middle Hill                   84\n",
      "Morningside                   25\n",
      "Mount Oliver Borough           8\n",
      "Mount Washington              80\n",
      "Mt. Oliver                     3\n",
      "North Oakland                 19\n",
      "North Shore                   16\n",
      "Northview Heights             56\n",
      "Oakwood                        3\n",
      "Overbrook                     23\n",
      "Perry North                   41\n",
      "Perry South                  117\n",
      "Point Breeze                  25\n",
      "Point Breeze North            18\n",
      "Polish Hill                    9\n",
      "Regent Square                  3\n",
      "Shadyside                     23\n",
      "Sheraden                     106\n",
      "South Oakland                 18\n",
      "South Shore                   10\n",
      "South Side Flats             172\n",
      "South Side Slopes             38\n",
      "Spring Garden                 10\n",
      "Spring Hill-City View         65\n",
      "Squirrel Hill North           14\n",
      "Squirrel Hill South           36\n",
      "St. Clair                      7\n",
      "Stanton Heights               11\n",
      "Strip District                22\n",
      "Summer Hill                    3\n",
      "Swisshelm Park                 3\n",
      "Terrace Village               40\n",
      "Troy Hill                     38\n",
      "Upper Hill                    27\n",
      "Upper Lawrenceville           14\n",
      "West End                       4\n",
      "West Oakland                  13\n",
      "Westwood                       9\n",
      "Windgap                       12\n",
      "Name: total_count, dtype: int64\n",
      "NEIGHBORHOOD WITH LOWEST FIREARM SEIZURES:  Mt. Oliver at 3\n",
      "NEIGHBORHOOD WITH HIGHEST FIREARM SEIZURES:  Homewood South at 298\n"
     ]
    }
   ],
   "source": [
    "firearm_seizures = pd.read_csv(\"Police Firearm Seizures.csv\", index_col = \"neighborhood\")\n",
    "pd.set_option('display.max_rows', None)\n",
    "\n",
    "#Data set has some houses listed as 'NaN',\n",
    "#in order to keep the data useable these\n",
    "#are removed to allow for more accuracy\n",
    "firearm_seizures.dropna(subset = [\"fire_zone\"], inplace=True)\n",
    "\n",
    "#Sort data by the neighborhood and then by\n",
    "#the sum firearm seizures for each\n",
    "firearm_seizures_groupby = firearm_seizures.groupby('neighborhood')['total_count'].sum()\n",
    "\n",
    "print(firearm_seizures_groupby)\n",
    "\n",
    "print('NEIGHBORHOOD WITH LOWEST FIREARM SEIZURES: ', firearm_seizures_groupby.idxmin() ,'at ' + str(firearm_seizures_groupby.min()))\n",
    "print('NEIGHBORHOOD WITH HIGHEST FIREARM SEIZURES: ', firearm_seizures_groupby.idxmax() ,'at ' + str(firearm_seizures_groupby.max()))"
   ]
  },
  {
   "cell_type": "markdown",
   "metadata": {},
   "source": [
    "Data Limitations:\n",
    "   * Mostly statistical, unable to know severity\n",
    "   * Smart criminals??\n",
    "   \n",
    "Many can agree that knowing whether their neighborhood has had weapons seized is a helpful stat to know. This allows for someone to know what kind of activity they will be expecting if they were to move into that neighborhood.  \n",
    "\n",
    "NOTE: these reports contain weapons that may have been considered illegal or were in some illegal event. This **does not** list weapons ownded legally such as huniting rifles. \n",
    "\n",
    "---"
   ]
  },
  {
   "cell_type": "markdown",
   "metadata": {},
   "source": [
    "## The Best Neighborhood"
   ]
  },
  {
   "cell_type": "markdown",
   "metadata": {},
   "source": [
    "Using the information from metric 2 and 3, **Mt. Oliver Boro** is so far the best listed out of the other neighborhoods. In order to complete our search for the best neighborhood, we will check the average housing cost of Mt. Oliver Boro."
   ]
  },
  {
   "cell_type": "code",
   "execution_count": 4,
   "metadata": {},
   "outputs": [
    {
     "name": "stdout",
     "output_type": "stream",
     "text": [
      "Mt. Oliver has an average housing cost of $66470.16\n",
      "The median housing cost is $145621.76\n"
     ]
    }
   ],
   "source": [
    "print('Mt. Oliver has an average housing cost of $' + str(round(property_sales_groupby.iloc[119],2)))\n",
    "print('The median housing cost is $' + str(round(property_sales_groupby.median(), 2)))\n"
   ]
  },
  {
   "cell_type": "markdown",
   "metadata": {},
   "source": [
    "Looking at the median housing cost of the neighborhoods in Pittsburgh, we can see that Mt. Oliver Boro is a decent amount under the median. Reminder, these prices were grouped as the mean of prices. So the median you are seeing is the median of the averages. Due to the low crime rates, illegal weapon activity, and decent housing cost, we believe the best neighborhood in Pittsburgh is **Mt. Oliver Boro**. "
   ]
  },
  {
   "cell_type": "markdown",
   "metadata": {},
   "source": [
    "## Conclusion"
   ]
  },
  {
   "cell_type": "markdown",
   "metadata": {},
   "source": [
    "To conclude, many factors need to be taken into account when choosing a neighborhood to live in. The factors depend on what each person needs and relies on. For example, families will need schools closer to them while elderly people will need easier access to their housing and car. To specifically select one *perfect* neighborhood can be a little difficult. This report can help someone who is looking for a well rounded neighborhood that should cause them little problems. In our opinion, we believe a good neighborhood should be one with little crime, great price for the housing, and little to no problems with weapons. This is how we come to the conclusion on **Mt. Oliver Boro** for best neighborhood."
   ]
  },
  {
   "cell_type": "code",
   "execution_count": null,
   "metadata": {},
   "outputs": [],
   "source": []
  }
 ],
 "metadata": {
  "kernelspec": {
   "display_name": "Python 3",
   "language": "python",
   "name": "python3"
  },
  "language_info": {
   "codemirror_mode": {
    "name": "ipython",
    "version": 3
   },
   "file_extension": ".py",
   "mimetype": "text/x-python",
   "name": "python",
   "nbconvert_exporter": "python",
   "pygments_lexer": "ipython3",
   "version": "3.8.3"
  }
 },
 "nbformat": 4,
 "nbformat_minor": 4
}
