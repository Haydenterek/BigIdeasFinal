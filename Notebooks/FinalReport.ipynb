{
 "cells": [
  {
   "cell_type": "markdown",
   "metadata": {},
   "source": [
    "# Final Report, The Best Neighborhood in Pittsburgh"
   ]
  },
  {
   "cell_type": "markdown",
   "metadata": {},
   "source": [
    "## Introduction\n",
    "\n",
    "When looking for places to live there are many things to take in to account. These can be **crime rates**, **housing cost**, **health conditions**, and more. For each person, their reasoning of picking a neighborhood will vary depending on their needs. In our report, we attempted to take some of the most common metrics and use them to determine the best neighborhood in Pittsburgh. \n",
    "\n",
    "---"
   ]
  },
  {
   "cell_type": "markdown",
   "metadata": {},
   "source": [
    "## The Metric\n",
    "\n",
    "For our metric, we will be combining the three individual metrics we used for our notebooks. These include the **cost of housing**, **police incidents**, and **firearm seizures**. "
   ]
  },
  {
   "cell_type": "markdown",
   "metadata": {},
   "source": [
    "### Cost of Housing\n",
    "\n",
    "This data set contains transactions of properties that were sold throughout Pittsburgh. We then determine the average cost of housing in the area, and rank them based on highest to lowest."
   ]
  },
  {
   "cell_type": "code",
   "execution_count": 8,
   "metadata": {},
   "outputs": [
    {
     "name": "stdout",
     "output_type": "stream",
     "text": [
      "COUNTY WITH HIGHEST HOUSING COST: 2nd Ward - PITTSBURGH at $1408401.77\n",
      "COUNTY WITH LOWEST HOUSING COST:  3rd Ward  - DUQUESNE at $ 25142.02\n"
     ]
    }
   ],
   "source": [
    "# Load pandas\n",
    "import pandas as pd\n",
    "\n",
    "# Data set gives off some warnings due to how to was created\n",
    "# this is used to turn those warnings off.\n",
    "import warnings\n",
    "warnings.filterwarnings('ignore')\n",
    "\n",
    "# Load Data\n",
    "property_sales = pd.read_csv(\"Allegheny County Property Sale Transactions.csv\",\n",
    "                            index_col = \"MUNIDESC\")\n",
    "\n",
    "# Data set is full of some houses that were labeled as being\n",
    "# sold for 1 or 0. These are removed to allow for the\n",
    "# calculations to be more accurate. \n",
    "property_sales = property_sales[property_sales.PRICE != 0]\n",
    "property_sales = property_sales[property_sales.PRICE != 1]\n",
    "property_sales = property_sales.sort_values('MUNICODE')\n",
    "\n",
    "# Sort the data by the municipality and then group by the\n",
    "# average price of found for each municipality\n",
    "property_sales_groupby = property_sales.groupby('MUNIDESC')['PRICE'].mean()\n",
    "\n",
    "print('COUNTY WITH HIGHEST HOUSING COST:', property_sales_groupby.idxmax(),'at $' + str(round(property_sales_groupby.max(), 2)))\n",
    "print('COUNTY WITH LOWEST HOUSING COST: ', property_sales_groupby.idxmin(), 'at $ ' + str(round(property_sales_groupby.min(),2)))"
   ]
  },
  {
   "cell_type": "markdown",
   "metadata": {},
   "source": [
    "Data limitations:\n",
    "   * Listed by counties, not neighborhoods\n",
    "   * County lines may create differences\n",
    "   * Housing cost depends on what is in surrounding area too\n",
    "   \n",
    "Housing cost alone cannot be enough to determine the best neighborhood, but it can be used with other metrics to find the best. \n",
    "\n",
    "---"
   ]
  },
  {
   "cell_type": "markdown",
   "metadata": {},
   "source": [
    "### Police Incidents"
   ]
  },
  {
   "cell_type": "markdown",
   "metadata": {},
   "source": [
    "### Firearm Seizures\n",
    "\n",
    "This data set contains the records when police seized firearms from an individual. From here, we add the totals per neighborhood and find which had the most. "
   ]
  },
  {
   "cell_type": "code",
   "execution_count": 11,
   "metadata": {},
   "outputs": [
    {
     "name": "stdout",
     "output_type": "stream",
     "text": [
      "neighborhood\n",
      "Allegheny Center              13\n",
      "Allegheny West                16\n",
      "Allentown                     82\n",
      "Arlington                     35\n",
      "Arlington Heights             10\n",
      "Banksville                     8\n",
      "Bedford Dwellings             72\n",
      "Beechview                     79\n",
      "Beltzhoover                   43\n",
      "Bloomfield                    47\n",
      "Bluff                         49\n",
      "Bon Air                       11\n",
      "Brighton Heights             129\n",
      "Brookline                     70\n",
      "California-Kirkbride          23\n",
      "Carrick                      131\n",
      "Central Business District    110\n",
      "Central Lawrenceville         23\n",
      "Central Northside             76\n",
      "Central Oakland               18\n",
      "Chartiers City                 4\n",
      "Chateau                       22\n",
      "Crafton Heights               52\n",
      "Crawford-Roberts              47\n",
      "Duquesne Heights              17\n",
      "East Allegheny                47\n",
      "East Hills                   107\n",
      "East Liberty                 138\n",
      "Elliott                       52\n",
      "Esplen                         9\n",
      "Fairywood                      7\n",
      "Fineview                      58\n",
      "Friendship                     5\n",
      "Garfield                      82\n",
      "Glen Hazel                    14\n",
      "Greenfield                    22\n",
      "Hays                           6\n",
      "Hazelwood                    129\n",
      "Highland Park                 38\n",
      "Homewood North               138\n",
      "Homewood South               298\n",
      "Homewood West                 51\n",
      "Knoxville                     94\n",
      "Larimer                      116\n",
      "Lincoln Place                  6\n",
      "Lincoln-Lemington-Belmar     118\n",
      "Lower Lawrenceville           15\n",
      "Manchester                    66\n",
      "Marshall-Shadeland           122\n",
      "Middle Hill                   84\n",
      "Morningside                   25\n",
      "Mount Oliver Borough           8\n",
      "Mount Washington              80\n",
      "Mt. Oliver                     3\n",
      "North Oakland                 19\n",
      "North Shore                   16\n",
      "Northview Heights             56\n",
      "Oakwood                        3\n",
      "Overbrook                     23\n",
      "Perry North                   41\n",
      "Perry South                  117\n",
      "Point Breeze                  25\n",
      "Point Breeze North            18\n",
      "Polish Hill                    9\n",
      "Regent Square                  3\n",
      "Shadyside                     23\n",
      "Sheraden                     106\n",
      "South Oakland                 18\n",
      "South Shore                   10\n",
      "South Side Flats             172\n",
      "South Side Slopes             38\n",
      "Spring Garden                 10\n",
      "Spring Hill-City View         65\n",
      "Squirrel Hill North           14\n",
      "Squirrel Hill South           36\n",
      "St. Clair                      7\n",
      "Stanton Heights               11\n",
      "Strip District                22\n",
      "Summer Hill                    3\n",
      "Swisshelm Park                 3\n",
      "Terrace Village               40\n",
      "Troy Hill                     38\n",
      "Upper Hill                    27\n",
      "Upper Lawrenceville           14\n",
      "West End                       4\n",
      "West Oakland                  13\n",
      "Westwood                       9\n",
      "Windgap                       12\n",
      "Name: total_count, dtype: int64\n",
      "NEIGHBORHOOD WITH LOWEST FIREARM SEIZURES:  Mt. Oliver at 3\n",
      "NEIGHBORHOOD WITH HIGHEST FIREARM SEIZURES:  Homewood South at 298\n"
     ]
    }
   ],
   "source": [
    "firearm_seizures = pd.read_csv(\"Police Firearm Seizures.csv\", index_col = \"neighborhood\")\n",
    "pd.set_option('display.max_rows', None)\n",
    "\n",
    "#Data set has some houses listed as 'NaN',\n",
    "#in order to keep the data useable these\n",
    "#are removed to allow for more accuracy\n",
    "firearm_seizures.dropna(subset = [\"fire_zone\"], inplace=True)\n",
    "\n",
    "#Sort data by the neighborhood and then by\n",
    "#the sum firearm seizures for each\n",
    "firearm_seizures_groupby = firearm_seizures.groupby('neighborhood')['total_count'].sum()\n",
    "\n",
    "print(firearm_seizures_groupby)\n",
    "\n",
    "print('NEIGHBORHOOD WITH LOWEST FIREARM SEIZURES: ', firearm_seizures_groupby.idxmin() ,'at ' + str(firearm_seizures_groupby.min()))\n",
    "print('NEIGHBORHOOD WITH HIGHEST FIREARM SEIZURES: ', firearm_seizures_groupby.idxmax() ,'at ' + str(firearm_seizures_groupby.max()))"
   ]
  },
  {
   "cell_type": "markdown",
   "metadata": {},
   "source": [
    "Data Limitations:\n",
    "   * Mostly statistical, unable to know severity\n",
    "   \n",
    "Many can agree that knowing whether their neighborhood has had weapons seized is a helpful stat to follow. \n",
    "\n",
    "NOTE: these reports contain weapons that may have been considered illegal or were in some illegal event this does not list weapons ownded legally such as huniting rifles. \n",
    "\n",
    "---"
   ]
  },
  {
   "cell_type": "markdown",
   "metadata": {},
   "source": [
    "## The Best Neighborhood"
   ]
  },
  {
   "cell_type": "markdown",
   "metadata": {},
   "source": [
    "## Conclusion"
   ]
  },
  {
   "cell_type": "code",
   "execution_count": null,
   "metadata": {},
   "outputs": [],
   "source": []
  }
 ],
 "metadata": {
  "kernelspec": {
   "display_name": "Python 3",
   "language": "python",
   "name": "python3"
  },
  "language_info": {
   "codemirror_mode": {
    "name": "ipython",
    "version": 3
   },
   "file_extension": ".py",
   "mimetype": "text/x-python",
   "name": "python",
   "nbconvert_exporter": "python",
   "pygments_lexer": "ipython3",
   "version": "3.8.3"
  }
 },
 "nbformat": 4,
 "nbformat_minor": 4
}
