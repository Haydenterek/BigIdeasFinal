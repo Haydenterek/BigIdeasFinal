{
 "cells": [
  {
   "cell_type": "markdown",
   "metadata": {},
   "source": [
    "# Final Report, The Best Neighborhood in Pittsburgh"
   ]
  },
  {
   "cell_type": "markdown",
   "metadata": {},
   "source": [
    "## Introduction\n",
    "\n",
    "When looking for places to live there are many things to take in to account. These can be **crime rates**, **housing cost**, **health conditions**, and more. For each person, their reasoning of picking a neighborhood will vary depending on their needs. In our report, we attempted to take some of the most common metrics and use them to determine the best neighborhood in Pittsburgh. \n",
    "\n",
    "---"
   ]
  },
  {
   "cell_type": "markdown",
   "metadata": {},
   "source": [
    "## The Metric\n",
    "\n",
    "For our metric, we will be combining the three individual metrics we used for our notebooks. These include the **cost of housing**, **police incidents**, and **firearm seizures**. "
   ]
  },
  {
   "cell_type": "markdown",
   "metadata": {},
   "source": [
    "### Cost of Housing\n",
    "\n",
    "This data set contains transactions of properties that were sold throughout Pittsburgh. We then determine the average cost of housing in the area, and rank them based on highest to lowest."
   ]
  },
  {
   "cell_type": "code",
   "execution_count": 2,
   "metadata": {},
   "outputs": [
    {
     "name": "stdout",
     "output_type": "stream",
     "text": [
      "COUNTY WITH HIGHEST HOUSING COST: 2nd Ward - PITTSBURGH at $1408401.77\n",
      "COUNTY WITH LOWEST HOUSING COST:  3rd Ward  - DUQUESNE at $ 25142.02\n"
     ]
    }
   ],
   "source": [
    "# Load pandas\n",
    "import pandas as pd\n",
    "\n",
    "# Data set gives off some warnings due to how to was created\n",
    "# this is used to turn those warnings off.\n",
    "import warnings\n",
    "warnings.filterwarnings('ignore')\n",
    "\n",
    "# Load Data\n",
    "property_sales = pd.read_csv(\"Allegheny County Property Sale Transactions.csv\",\n",
    "                            index_col = \"MUNIDESC\")\n",
    "\n",
    "# Data set is full of some houses that were labeled as being\n",
    "# sold for 1 or 0. These are removed to allow for the\n",
    "# calculations to be more accurate. \n",
    "property_sales = property_sales[property_sales.PRICE != 0]\n",
    "property_sales = property_sales[property_sales.PRICE != 1]\n",
    "property_sales = property_sales.sort_values('MUNICODE')\n",
    "\n",
    "# Sort the data by the municipality and then group by the\n",
    "# average price of found for each municipality\n",
    "property_sales_groupby = property_sales.groupby('MUNIDESC')['PRICE'].mean()\n",
    "\n",
    "print('COUNTY WITH HIGHEST HOUSING COST:', property_sales_groupby.idxmax(),'at $' + str(round(property_sales_groupby.max(), 2)))\n",
    "print('COUNTY WITH LOWEST HOUSING COST: ', property_sales_groupby.idxmin(), 'at $ ' + str(round(property_sales_groupby.min(),2)))"
   ]
  },
  {
   "cell_type": "markdown",
   "metadata": {},
   "source": [
    "Data limitations:\n",
    "   * Listed by counties, not neighborhoods\n",
    "   * County lines may create differences\n",
    "   * Housing cost depends on what is in surrounding area too\n",
    "   \n",
    "Housing cost alone cannot be enough to determine the best neighborhood, but it can be used with other metrics to find the best. \n",
    "\n",
    "---"
   ]
  },
  {
   "cell_type": "markdown",
   "metadata": {},
   "source": [
    "### Police Incidents"
   ]
  },
  {
   "cell_type": "markdown",
   "metadata": {},
   "source": [
    "This data set depicts every police-reported incident in the Pittsburgh region. From here, we list out all neighborhoods and their total number of incidents, resulting in finding the neighborhood with the lowest total number of incidents and number of burglaries for each neighborhood."
   ]
  },
  {
   "cell_type": "code",
   "execution_count": 3,
   "metadata": {},
   "outputs": [
    {
     "ename": "FileNotFoundError",
     "evalue": "[Errno 2] File Incidents.csv does not exist: 'Incidents.csv'",
     "output_type": "error",
     "traceback": [
      "\u001b[0;31m---------------------------------------------------------------------------\u001b[0m",
      "\u001b[0;31mFileNotFoundError\u001b[0m                         Traceback (most recent call last)",
      "\u001b[0;32m<ipython-input-3-d89c97680d7b>\u001b[0m in \u001b[0;36m<module>\u001b[0;34m\u001b[0m\n\u001b[1;32m      2\u001b[0m \u001b[0;32mimport\u001b[0m \u001b[0mmath\u001b[0m\u001b[0;34m;\u001b[0m\u001b[0;34m\u001b[0m\u001b[0;34m\u001b[0m\u001b[0m\n\u001b[1;32m      3\u001b[0m \u001b[0;34m\u001b[0m\u001b[0m\n\u001b[0;32m----> 4\u001b[0;31m \u001b[0mincidents\u001b[0m \u001b[0;34m=\u001b[0m \u001b[0mpd\u001b[0m\u001b[0;34m.\u001b[0m\u001b[0mread_csv\u001b[0m\u001b[0;34m(\u001b[0m\u001b[0;34m\"Incidents.csv\"\u001b[0m\u001b[0;34m)\u001b[0m\u001b[0;34m\u001b[0m\u001b[0;34m\u001b[0m\u001b[0m\n\u001b[0m\u001b[1;32m      5\u001b[0m \u001b[0mneighborhoods\u001b[0m \u001b[0;34m=\u001b[0m \u001b[0mincidents\u001b[0m\u001b[0;34m[\u001b[0m\u001b[0;34m\"INCIDENTNEIGHBORHOOD\"\u001b[0m\u001b[0;34m]\u001b[0m\u001b[0;34m.\u001b[0m\u001b[0munique\u001b[0m\u001b[0;34m(\u001b[0m\u001b[0;34m)\u001b[0m\u001b[0;34m\u001b[0m\u001b[0;34m\u001b[0m\u001b[0m\n\u001b[1;32m      6\u001b[0m \u001b[0mnumIncidents\u001b[0m \u001b[0;34m=\u001b[0m \u001b[0;34m[\u001b[0m\u001b[0;34m]\u001b[0m\u001b[0;34m\u001b[0m\u001b[0;34m\u001b[0m\u001b[0m\n",
      "\u001b[0;32m/opt/tljh/user/lib/python3.8/site-packages/pandas/io/parsers.py\u001b[0m in \u001b[0;36mparser_f\u001b[0;34m(filepath_or_buffer, sep, delimiter, header, names, index_col, usecols, squeeze, prefix, mangle_dupe_cols, dtype, engine, converters, true_values, false_values, skipinitialspace, skiprows, skipfooter, nrows, na_values, keep_default_na, na_filter, verbose, skip_blank_lines, parse_dates, infer_datetime_format, keep_date_col, date_parser, dayfirst, cache_dates, iterator, chunksize, compression, thousands, decimal, lineterminator, quotechar, quoting, doublequote, escapechar, comment, encoding, dialect, error_bad_lines, warn_bad_lines, delim_whitespace, low_memory, memory_map, float_precision)\u001b[0m\n\u001b[1;32m    674\u001b[0m         )\n\u001b[1;32m    675\u001b[0m \u001b[0;34m\u001b[0m\u001b[0m\n\u001b[0;32m--> 676\u001b[0;31m         \u001b[0;32mreturn\u001b[0m \u001b[0m_read\u001b[0m\u001b[0;34m(\u001b[0m\u001b[0mfilepath_or_buffer\u001b[0m\u001b[0;34m,\u001b[0m \u001b[0mkwds\u001b[0m\u001b[0;34m)\u001b[0m\u001b[0;34m\u001b[0m\u001b[0;34m\u001b[0m\u001b[0m\n\u001b[0m\u001b[1;32m    677\u001b[0m \u001b[0;34m\u001b[0m\u001b[0m\n\u001b[1;32m    678\u001b[0m     \u001b[0mparser_f\u001b[0m\u001b[0;34m.\u001b[0m\u001b[0m__name__\u001b[0m \u001b[0;34m=\u001b[0m \u001b[0mname\u001b[0m\u001b[0;34m\u001b[0m\u001b[0;34m\u001b[0m\u001b[0m\n",
      "\u001b[0;32m/opt/tljh/user/lib/python3.8/site-packages/pandas/io/parsers.py\u001b[0m in \u001b[0;36m_read\u001b[0;34m(filepath_or_buffer, kwds)\u001b[0m\n\u001b[1;32m    446\u001b[0m \u001b[0;34m\u001b[0m\u001b[0m\n\u001b[1;32m    447\u001b[0m     \u001b[0;31m# Create the parser.\u001b[0m\u001b[0;34m\u001b[0m\u001b[0;34m\u001b[0m\u001b[0;34m\u001b[0m\u001b[0m\n\u001b[0;32m--> 448\u001b[0;31m     \u001b[0mparser\u001b[0m \u001b[0;34m=\u001b[0m \u001b[0mTextFileReader\u001b[0m\u001b[0;34m(\u001b[0m\u001b[0mfp_or_buf\u001b[0m\u001b[0;34m,\u001b[0m \u001b[0;34m**\u001b[0m\u001b[0mkwds\u001b[0m\u001b[0;34m)\u001b[0m\u001b[0;34m\u001b[0m\u001b[0;34m\u001b[0m\u001b[0m\n\u001b[0m\u001b[1;32m    449\u001b[0m \u001b[0;34m\u001b[0m\u001b[0m\n\u001b[1;32m    450\u001b[0m     \u001b[0;32mif\u001b[0m \u001b[0mchunksize\u001b[0m \u001b[0;32mor\u001b[0m \u001b[0miterator\u001b[0m\u001b[0;34m:\u001b[0m\u001b[0;34m\u001b[0m\u001b[0;34m\u001b[0m\u001b[0m\n",
      "\u001b[0;32m/opt/tljh/user/lib/python3.8/site-packages/pandas/io/parsers.py\u001b[0m in \u001b[0;36m__init__\u001b[0;34m(self, f, engine, **kwds)\u001b[0m\n\u001b[1;32m    878\u001b[0m             \u001b[0mself\u001b[0m\u001b[0;34m.\u001b[0m\u001b[0moptions\u001b[0m\u001b[0;34m[\u001b[0m\u001b[0;34m\"has_index_names\"\u001b[0m\u001b[0;34m]\u001b[0m \u001b[0;34m=\u001b[0m \u001b[0mkwds\u001b[0m\u001b[0;34m[\u001b[0m\u001b[0;34m\"has_index_names\"\u001b[0m\u001b[0;34m]\u001b[0m\u001b[0;34m\u001b[0m\u001b[0;34m\u001b[0m\u001b[0m\n\u001b[1;32m    879\u001b[0m \u001b[0;34m\u001b[0m\u001b[0m\n\u001b[0;32m--> 880\u001b[0;31m         \u001b[0mself\u001b[0m\u001b[0;34m.\u001b[0m\u001b[0m_make_engine\u001b[0m\u001b[0;34m(\u001b[0m\u001b[0mself\u001b[0m\u001b[0;34m.\u001b[0m\u001b[0mengine\u001b[0m\u001b[0;34m)\u001b[0m\u001b[0;34m\u001b[0m\u001b[0;34m\u001b[0m\u001b[0m\n\u001b[0m\u001b[1;32m    881\u001b[0m \u001b[0;34m\u001b[0m\u001b[0m\n\u001b[1;32m    882\u001b[0m     \u001b[0;32mdef\u001b[0m \u001b[0mclose\u001b[0m\u001b[0;34m(\u001b[0m\u001b[0mself\u001b[0m\u001b[0;34m)\u001b[0m\u001b[0;34m:\u001b[0m\u001b[0;34m\u001b[0m\u001b[0;34m\u001b[0m\u001b[0m\n",
      "\u001b[0;32m/opt/tljh/user/lib/python3.8/site-packages/pandas/io/parsers.py\u001b[0m in \u001b[0;36m_make_engine\u001b[0;34m(self, engine)\u001b[0m\n\u001b[1;32m   1112\u001b[0m     \u001b[0;32mdef\u001b[0m \u001b[0m_make_engine\u001b[0m\u001b[0;34m(\u001b[0m\u001b[0mself\u001b[0m\u001b[0;34m,\u001b[0m \u001b[0mengine\u001b[0m\u001b[0;34m=\u001b[0m\u001b[0;34m\"c\"\u001b[0m\u001b[0;34m)\u001b[0m\u001b[0;34m:\u001b[0m\u001b[0;34m\u001b[0m\u001b[0;34m\u001b[0m\u001b[0m\n\u001b[1;32m   1113\u001b[0m         \u001b[0;32mif\u001b[0m \u001b[0mengine\u001b[0m \u001b[0;34m==\u001b[0m \u001b[0;34m\"c\"\u001b[0m\u001b[0;34m:\u001b[0m\u001b[0;34m\u001b[0m\u001b[0;34m\u001b[0m\u001b[0m\n\u001b[0;32m-> 1114\u001b[0;31m             \u001b[0mself\u001b[0m\u001b[0;34m.\u001b[0m\u001b[0m_engine\u001b[0m \u001b[0;34m=\u001b[0m \u001b[0mCParserWrapper\u001b[0m\u001b[0;34m(\u001b[0m\u001b[0mself\u001b[0m\u001b[0;34m.\u001b[0m\u001b[0mf\u001b[0m\u001b[0;34m,\u001b[0m \u001b[0;34m**\u001b[0m\u001b[0mself\u001b[0m\u001b[0;34m.\u001b[0m\u001b[0moptions\u001b[0m\u001b[0;34m)\u001b[0m\u001b[0;34m\u001b[0m\u001b[0;34m\u001b[0m\u001b[0m\n\u001b[0m\u001b[1;32m   1115\u001b[0m         \u001b[0;32melse\u001b[0m\u001b[0;34m:\u001b[0m\u001b[0;34m\u001b[0m\u001b[0;34m\u001b[0m\u001b[0m\n\u001b[1;32m   1116\u001b[0m             \u001b[0;32mif\u001b[0m \u001b[0mengine\u001b[0m \u001b[0;34m==\u001b[0m \u001b[0;34m\"python\"\u001b[0m\u001b[0;34m:\u001b[0m\u001b[0;34m\u001b[0m\u001b[0;34m\u001b[0m\u001b[0m\n",
      "\u001b[0;32m/opt/tljh/user/lib/python3.8/site-packages/pandas/io/parsers.py\u001b[0m in \u001b[0;36m__init__\u001b[0;34m(self, src, **kwds)\u001b[0m\n\u001b[1;32m   1889\u001b[0m         \u001b[0mkwds\u001b[0m\u001b[0;34m[\u001b[0m\u001b[0;34m\"usecols\"\u001b[0m\u001b[0;34m]\u001b[0m \u001b[0;34m=\u001b[0m \u001b[0mself\u001b[0m\u001b[0;34m.\u001b[0m\u001b[0musecols\u001b[0m\u001b[0;34m\u001b[0m\u001b[0;34m\u001b[0m\u001b[0m\n\u001b[1;32m   1890\u001b[0m \u001b[0;34m\u001b[0m\u001b[0m\n\u001b[0;32m-> 1891\u001b[0;31m         \u001b[0mself\u001b[0m\u001b[0;34m.\u001b[0m\u001b[0m_reader\u001b[0m \u001b[0;34m=\u001b[0m \u001b[0mparsers\u001b[0m\u001b[0;34m.\u001b[0m\u001b[0mTextReader\u001b[0m\u001b[0;34m(\u001b[0m\u001b[0msrc\u001b[0m\u001b[0;34m,\u001b[0m \u001b[0;34m**\u001b[0m\u001b[0mkwds\u001b[0m\u001b[0;34m)\u001b[0m\u001b[0;34m\u001b[0m\u001b[0;34m\u001b[0m\u001b[0m\n\u001b[0m\u001b[1;32m   1892\u001b[0m         \u001b[0mself\u001b[0m\u001b[0;34m.\u001b[0m\u001b[0munnamed_cols\u001b[0m \u001b[0;34m=\u001b[0m \u001b[0mself\u001b[0m\u001b[0;34m.\u001b[0m\u001b[0m_reader\u001b[0m\u001b[0;34m.\u001b[0m\u001b[0munnamed_cols\u001b[0m\u001b[0;34m\u001b[0m\u001b[0;34m\u001b[0m\u001b[0m\n\u001b[1;32m   1893\u001b[0m \u001b[0;34m\u001b[0m\u001b[0m\n",
      "\u001b[0;32mpandas/_libs/parsers.pyx\u001b[0m in \u001b[0;36mpandas._libs.parsers.TextReader.__cinit__\u001b[0;34m()\u001b[0m\n",
      "\u001b[0;32mpandas/_libs/parsers.pyx\u001b[0m in \u001b[0;36mpandas._libs.parsers.TextReader._setup_parser_source\u001b[0;34m()\u001b[0m\n",
      "\u001b[0;31mFileNotFoundError\u001b[0m: [Errno 2] File Incidents.csv does not exist: 'Incidents.csv'"
     ]
    }
   ],
   "source": [
    "import pandas as pd;\n",
    "import math;\n",
    "\n",
    "incidents = pd.read_csv(\"Incidents.csv\")\n",
    "neighborhoods = incidents[\"INCIDENTNEIGHBORHOOD\"].unique()\n",
    "numIncidents = []\n",
    "cleanedList = [x for x in neighborhoods if str(x) != 'nan']\n",
    "\n",
    "for n in neighborhoods:\n",
    "    query_mask = incidents['INCIDENTNEIGHBORHOOD'] == n\n",
    "    inc = incidents[query_mask]\n",
    "    numIncidents.append(len(inc.index))\n",
    "\n",
    "cleanedNumList = [x for x in numIncidents if x != 0]\n",
    "\n",
    "print(\"-----------------Number of Incidents since 1/1/16-----------------\\n\")\n",
    "for hood, num in zip(cleanedList, cleanedNumList):\n",
    "    print ('\\t\\t', hood, \"= \", num, \"incidents\")\n",
    "\n",
    "minValue = min(cleanedNumList)\n",
    "indexMin = numIncidents.index(minValue)\n",
    "print (\"\\nNeighborhood with least amount of incidents = \", cleanedList[indexMin-1])\n",
    "print(\"with\", minValue, \"incidents since 1/1/16.\")\n",
    "\n",
    "burg = incidents[[\"INCIDENTNEIGHBORHOOD\", 'INCIDENTHIERARCHYDESC']]\n",
    "contain_values = burg[burg['INCIDENTHIERARCHYDESC'].str.contains('BURGLARY', na = False)]\n",
    "print(\"\\nAmount of Burglaries per Neighborhood (Acsending)\\n\" , contain_values['INCIDENTNEIGHBORHOOD'].value_counts(ascending=True))\n",
    "\n",
    "\n"
   ]
  },
  {
   "cell_type": "markdown",
   "metadata": {},
   "source": [
    "Data Limitations:\n",
    "   * Some incidents could be not registered or not accounted for resulting in this data set not being fully accurate.\n",
    "   \n",
    "Many could agree that incident rates and amount of burglaries in a neighborhood are big factors on whether a neighborhood is safe or not.\n",
    "\n",
    "NOTE: The data set used contain multiple severities of incidents including theft, dischard of firearm, Public Drunkeness, DUIs, etc.. \n",
    "\n",
    "---"
   ]
  },
  {
   "cell_type": "markdown",
   "metadata": {},
   "source": [
    "### Firearm Seizures\n",
    "\n",
    "This data set contains the records when police seized firearms from an individual. From here, we add the totals per neighborhood and find which had the most. "
   ]
  },
  {
   "cell_type": "code",
   "execution_count": 4,
   "metadata": {},
   "outputs": [
    {
     "name": "stdout",
     "output_type": "stream",
     "text": [
      "neighborhood\n",
      "Allegheny Center              13\n",
      "Allegheny West                16\n",
      "Allentown                     82\n",
      "Arlington                     35\n",
      "Arlington Heights             10\n",
      "Banksville                     8\n",
      "Bedford Dwellings             72\n",
      "Beechview                     79\n",
      "Beltzhoover                   43\n",
      "Bloomfield                    47\n",
      "Bluff                         49\n",
      "Bon Air                       11\n",
      "Brighton Heights             129\n",
      "Brookline                     70\n",
      "California-Kirkbride          23\n",
      "Carrick                      131\n",
      "Central Business District    110\n",
      "Central Lawrenceville         23\n",
      "Central Northside             76\n",
      "Central Oakland               18\n",
      "Chartiers City                 4\n",
      "Chateau                       22\n",
      "Crafton Heights               52\n",
      "Crawford-Roberts              47\n",
      "Duquesne Heights              17\n",
      "East Allegheny                47\n",
      "East Hills                   107\n",
      "East Liberty                 138\n",
      "Elliott                       52\n",
      "Esplen                         9\n",
      "Fairywood                      7\n",
      "Fineview                      58\n",
      "Friendship                     5\n",
      "Garfield                      82\n",
      "Glen Hazel                    14\n",
      "Greenfield                    22\n",
      "Hays                           6\n",
      "Hazelwood                    129\n",
      "Highland Park                 38\n",
      "Homewood North               138\n",
      "Homewood South               298\n",
      "Homewood West                 51\n",
      "Knoxville                     94\n",
      "Larimer                      116\n",
      "Lincoln Place                  6\n",
      "Lincoln-Lemington-Belmar     118\n",
      "Lower Lawrenceville           15\n",
      "Manchester                    66\n",
      "Marshall-Shadeland           122\n",
      "Middle Hill                   84\n",
      "Morningside                   25\n",
      "Mount Oliver Borough           8\n",
      "Mount Washington              80\n",
      "Mt. Oliver                     3\n",
      "North Oakland                 19\n",
      "North Shore                   16\n",
      "Northview Heights             56\n",
      "Oakwood                        3\n",
      "Overbrook                     23\n",
      "Perry North                   41\n",
      "Perry South                  117\n",
      "Point Breeze                  25\n",
      "Point Breeze North            18\n",
      "Polish Hill                    9\n",
      "Regent Square                  3\n",
      "Shadyside                     23\n",
      "Sheraden                     106\n",
      "South Oakland                 18\n",
      "South Shore                   10\n",
      "South Side Flats             172\n",
      "South Side Slopes             38\n",
      "Spring Garden                 10\n",
      "Spring Hill-City View         65\n",
      "Squirrel Hill North           14\n",
      "Squirrel Hill South           36\n",
      "St. Clair                      7\n",
      "Stanton Heights               11\n",
      "Strip District                22\n",
      "Summer Hill                    3\n",
      "Swisshelm Park                 3\n",
      "Terrace Village               40\n",
      "Troy Hill                     38\n",
      "Upper Hill                    27\n",
      "Upper Lawrenceville           14\n",
      "West End                       4\n",
      "West Oakland                  13\n",
      "Westwood                       9\n",
      "Windgap                       12\n",
      "Name: total_count, dtype: int64\n",
      "NEIGHBORHOOD WITH LOWEST FIREARM SEIZURES:  Mt. Oliver at 3\n",
      "NEIGHBORHOOD WITH HIGHEST FIREARM SEIZURES:  Homewood South at 298\n"
     ]
    }
   ],
   "source": [
    "firearm_seizures = pd.read_csv(\"Police Firearm Seizures.csv\", index_col = \"neighborhood\")\n",
    "pd.set_option('display.max_rows', None)\n",
    "\n",
    "#Data set has some houses listed as 'NaN',\n",
    "#in order to keep the data useable these\n",
    "#are removed to allow for more accuracy\n",
    "firearm_seizures.dropna(subset = [\"fire_zone\"], inplace=True)\n",
    "\n",
    "#Sort data by the neighborhood and then by\n",
    "#the sum firearm seizures for each\n",
    "firearm_seizures_groupby = firearm_seizures.groupby('neighborhood')['total_count'].sum()\n",
    "\n",
    "print(firearm_seizures_groupby)\n",
    "\n",
    "print('NEIGHBORHOOD WITH LOWEST FIREARM SEIZURES: ', firearm_seizures_groupby.idxmin() ,'at ' + str(firearm_seizures_groupby.min()))\n",
    "print('NEIGHBORHOOD WITH HIGHEST FIREARM SEIZURES: ', firearm_seizures_groupby.idxmax() ,'at ' + str(firearm_seizures_groupby.max()))"
   ]
  },
  {
   "cell_type": "markdown",
   "metadata": {},
   "source": [
    "Data Limitations:\n",
    "   * Mostly statistical, unable to know severity\n",
    "   \n",
    "Many can agree that knowing whether their neighborhood has had weapons seized is a helpful stat to follow. \n",
    "\n",
    "NOTE: these reports contain weapons that may have been considered illegal or were in some illegal event this does not list weapons ownded legally such as huniting rifles. \n",
    "\n",
    "---"
   ]
  },
  {
   "cell_type": "markdown",
   "metadata": {},
   "source": [
    "## The Best Neighborhood"
   ]
  },
  {
   "cell_type": "markdown",
   "metadata": {},
   "source": [
    "Using the information from metric 2 and 3, **Mt. Oliver Boro** is so far the best listed out of the other neighborhoods. In order to complete our search for the best neighborhood, we will check the average housing cost of Mt. Oliver Boro."
   ]
  },
  {
   "cell_type": "code",
   "execution_count": 27,
   "metadata": {},
   "outputs": [
    {
     "name": "stdout",
     "output_type": "stream",
     "text": [
      "Mt. Oliver has an average housing cost of $66470.16\n",
      "The median housing cost is $145621.76\n"
     ]
    }
   ],
   "source": [
    "print('Mt. Oliver has an average housing cost of $' + str(round(property_sales_groupby.iloc[119],2)))\n",
    "print('The median housing cost is $' + str(round(property_sales_groupby.median(), 2)))\n"
   ]
  },
  {
   "cell_type": "markdown",
   "metadata": {},
   "source": [
    "Looking at the median housing cost of the neighborhoods in Pittsburgh, we can see that Mt. Oliver Boro is a decent amount under the median. Reminder, these prices were grouped as the mean of prices. So the median you are seeing is the median of the averages. Due to the low crime rates, illegal weapon activity, and decent housing cost, we believe the best neighborhood in Pittsburgh is **Mt. Oliver Boro**. "
   ]
  },
  {
   "cell_type": "markdown",
   "metadata": {},
   "source": [
    "## Conclusion"
   ]
  },
  {
   "cell_type": "markdown",
   "metadata": {},
   "source": [
    "To conclude, many factors need to be taken into account when choosing a neighborhood to live in. The factors depend on what each person needs and relies on. For example, families will need schools closer to them while elderly people will need easier access to their housing and car. To specifically select one *perfect* neighborhood can be a little difficult. This report can help someone who is looking for a well rounded neighborhood that should cause them little problems. In our opinion, we believe a good neighborhood should be one with little crime, great price for the housing, and little "
   ]
  }
 ],
 "metadata": {
  "kernelspec": {
   "display_name": "Python 3",
   "language": "python",
   "name": "python3"
  },
  "language_info": {
   "codemirror_mode": {
    "name": "ipython",
    "version": 3
   },
   "file_extension": ".py",
   "mimetype": "text/x-python",
   "name": "python",
   "nbconvert_exporter": "python",
   "pygments_lexer": "ipython3",
   "version": "3.8.3"
  }
 },
 "nbformat": 4,
 "nbformat_minor": 4
}
