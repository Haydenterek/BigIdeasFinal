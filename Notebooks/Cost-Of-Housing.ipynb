{
 "cells": [
  {
   "cell_type": "markdown",
   "metadata": {},
   "source": [
    "# Cost of Housing in Pittsburgh Neighborhoods"
   ]
  },
  {
   "cell_type": "markdown",
   "metadata": {},
   "source": [
    "This notebook considers the data contained in the data set with regards to the cost of housing."
   ]
  },
  {
   "cell_type": "code",
   "execution_count": 64,
   "metadata": {},
   "outputs": [],
   "source": [
    "# Load pandas\n",
    "import pandas as pd\n",
    "\n",
    "# Data set gives off some warnings due to how to was created\n",
    "# this is used to turn those warnings off.\n",
    "import warnings\n",
    "warnings.filterwarnings('ignore')\n",
    "\n",
    "# Load Data\n",
    "property_sales = pd.read_csv(\"Allegheny County Property Sale Transactions.csv\",\n",
    "                            index_col = \"MUNIDESC\")"
   ]
  },
  {
   "cell_type": "code",
   "execution_count": 75,
   "metadata": {},
   "outputs": [],
   "source": [
    "# Data set is full of some houses that were labeled as being\n",
    "# sold for 1 or 0. These are removed to allow for the\n",
    "# calculations to be more accurate. \n",
    "property_sales = property_sales[property_sales.PRICE != 0]\n",
    "property_sales = property_sales[property_sales.PRICE != 1]\n",
    "property_sales = property_sales.sort_values('MUNICODE')\n",
    "\n",
    "# Sort the data by the municipality and then group by the\n",
    "# average price of found for each municipality\n",
    "property_sales_groupby = property_sales.groupby('MUNIDESC')['PRICE'].mean()"
   ]
  },
  {
   "cell_type": "markdown",
   "metadata": {},
   "source": [
    "## Neighborhood With Lowest Housing Cost"
   ]
  },
  {
   "cell_type": "code",
   "execution_count": 79,
   "metadata": {},
   "outputs": [
    {
     "name": "stdout",
     "output_type": "stream",
     "text": [
      "3rd Ward  - DUQUESNE  has the lowest housing cost of $ 25142.02\n"
     ]
    }
   ],
   "source": [
    "print(property_sales_groupby.idxmin(), ' has the lowest housing cost of $', round(property_sales_groupby.min(), 2))\n"
   ]
  },
  {
   "cell_type": "markdown",
   "metadata": {},
   "source": [
    "## Neighborhood With Highest Housing Cost\n"
   ]
  },
  {
   "cell_type": "code",
   "execution_count": 80,
   "metadata": {},
   "outputs": [
    {
     "name": "stdout",
     "output_type": "stream",
     "text": [
      "2nd Ward - PITTSBURGH  has the highest housing cost of $ 1408401.77\n"
     ]
    }
   ],
   "source": [
    "print(property_sales_groupby.idxmax(), ' has the highest housing cost of $', round(property_sales_groupby.max(), 2))\n"
   ]
  },
  {
   "cell_type": "markdown",
   "metadata": {},
   "source": [
    "## Neighborhood With Median Housing Cost"
   ]
  },
  {
   "cell_type": "code",
   "execution_count": 113,
   "metadata": {},
   "outputs": [
    {
     "name": "stdout",
     "output_type": "stream",
     "text": [
      "Sewickley Heights    has the median housing cost of $ 145621.76\n"
     ]
    }
   ],
   "source": [
    "print(property_sales.groupby([\"MUNIDESC\"])[\"PRICE\"].median().idxmax(), ' has the median housing cost of $', round(property_sales_groupby.median(), 2))\n"
   ]
  },
  {
   "cell_type": "markdown",
   "metadata": {},
   "source": [
    "## Conclusion\n",
    "\n",
    "Depending on what one is looking for will determine which neighborhood they find fitting. The lowest neighborhood, 3rd Ward - Duquesne, may be unanimously decided as not the best due to the other factors that come from this (cleanliness, crime, education). In my opinion, I would be happy with choosing the median neighborhood, Sewickley Heights, due to the fact that it should be a well rounded community. "
   ]
  },
  {
   "cell_type": "code",
   "execution_count": null,
   "metadata": {},
   "outputs": [],
   "source": []
  }
 ],
 "metadata": {
  "kernelspec": {
   "display_name": "Python 3",
   "language": "python",
   "name": "python3"
  },
  "language_info": {
   "codemirror_mode": {
    "name": "ipython",
    "version": 3
   },
   "file_extension": ".py",
   "mimetype": "text/x-python",
   "name": "python",
   "nbconvert_exporter": "python",
   "pygments_lexer": "ipython3",
   "version": "3.8.3"
  }
 },
 "nbformat": 4,
 "nbformat_minor": 4
}
