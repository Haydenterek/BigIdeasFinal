{
 "cells": [
  {
   "cell_type": "markdown",
   "metadata": {},
   "source": [
    "# Cost of Housing in Pittsburgh Neighborhoods"
   ]
  },
  {
   "cell_type": "markdown",
   "metadata": {},
   "source": [
    "This notebook considers the data contained in the data set with regards to the cost of housing."
   ]
  },
  {
   "cell_type": "code",
   "execution_count": 114,
   "metadata": {},
   "outputs": [],
   "source": [
    "# Load pandas\n",
    "import pandas as pd\n",
    "\n",
    "# Data set gives off some warnings due to how to was created\n",
    "# this is used to turn those warnings off.\n",
    "import warnings\n",
    "warnings.filterwarnings('ignore')\n",
    "\n",
    "# Load Data\n",
    "property_sales = pd.read_csv(\"Allegheny County Property Sale Transactions.csv\",\n",
    "                            index_col = \"MUNIDESC\")"
   ]
  },
  {
   "cell_type": "code",
   "execution_count": 115,
   "metadata": {},
   "outputs": [],
   "source": [
    "# Data set is full of some houses that were labeled as being\n",
    "# sold for 1 or 0. These are removed to allow for the\n",
    "# calculations to be more accurate. \n",
    "property_sales = property_sales[property_sales.PRICE != 0]\n",
    "property_sales = property_sales[property_sales.PRICE != 1]\n",
    "property_sales = property_sales.sort_values('MUNICODE')\n",
    "\n",
    "# Sort the data by the municipality and then group by the\n",
    "# average price of found for each municipality\n",
    "property_sales_groupby = property_sales.groupby('MUNIDESC')['PRICE'].mean()"
   ]
  },
  {
   "cell_type": "markdown",
   "metadata": {},
   "source": [
    "## Neighborhood With Lowest Housing Cost"
   ]
  },
  {
   "cell_type": "code",
   "execution_count": 116,
   "metadata": {},
   "outputs": [
    {
     "name": "stdout",
     "output_type": "stream",
     "text": [
      "3rd Ward  - DUQUESNE  has the lowest housing cost of $ 25142.02\n"
     ]
    }
   ],
   "source": [
    "print(property_sales_groupby.idxmin(), ' has the lowest housing cost of $', round(property_sales_groupby.min(), 2))\n"
   ]
  },
  {
   "cell_type": "markdown",
   "metadata": {},
   "source": [
    "## Neighborhood With Highest Housing Cost\n"
   ]
  },
  {
   "cell_type": "code",
   "execution_count": 117,
   "metadata": {},
   "outputs": [
    {
     "name": "stdout",
     "output_type": "stream",
     "text": [
      "2nd Ward - PITTSBURGH  has the highest housing cost of $ 1408401.77\n"
     ]
    }
   ],
   "source": [
    "print(property_sales_groupby.idxmax(), ' has the highest housing cost of $', round(property_sales_groupby.max(), 2))\n"
   ]
  },
  {
   "cell_type": "markdown",
   "metadata": {},
   "source": [
    "## Neighborhood With Median Housing Cost"
   ]
  },
  {
   "cell_type": "code",
   "execution_count": 118,
   "metadata": {},
   "outputs": [
    {
     "name": "stdout",
     "output_type": "stream",
     "text": [
      "Sewickley Heights    has the median housing cost of $ 145621.76\n"
     ]
    }
   ],
   "source": [
    "print(property_sales.groupby([\"MUNIDESC\"])[\"PRICE\"].median().idxmax(), ' has the median housing cost of $', round(property_sales_groupby.median(), 2))\n"
   ]
  },
  {
   "cell_type": "markdown",
   "metadata": {},
   "source": [
    "## Data Limitations\n",
    "\n",
    "The data set used containted a fair amount of information that allowed one to see the different costs in neighborhoods. It does lack is some spots that could contain useful information. To start, this data set is composed by counties rather than neighborhoods. This surely covers the same ground that neighborhoods would cover; however, due to naming differences and county lines, this data set may have some different outlooks than others. Something that is not mentioned in the set, and would be a little difficult to due so, would be what is around the area of the county. While this is somewhat implied, counties may have a higher price per neighborhood depending on what is in the vacinity. For example, schools, stores, transportation, could all drive up the price because of the easier access for some houses. "
   ]
  },
  {
   "cell_type": "markdown",
   "metadata": {},
   "source": [
    "## Conclusion\n",
    "\n",
    "Depending on what one is looking for will determine which neighborhood they find fitting. The lowest neighborhood, **3rd Ward - Duquesne**, may be unanimously decided as not the best due to the other factors that come from this (cleanliness, crime, education). The highest neighborhood is **2nd Ward - Pittsburgh**, and median cost is **Sewickley Heights**. Due to personal opinions, the choosing on neighborhoods based on cost can be different for everyone. The most expensive can be assumed to be chosen by those with a higher income status. It is obvious that middle income family would not choose this as their neighborhood for the fact that they could not offord to live there. The median neighborhood may be looked at as the best due to it should have about the average of all commodities. This being an average distance to schooling, shopping, average crime rate etc. Choosing the best neighborhood by housing cost is very dependent on what one is looking for. Safer neighborhoods may cost more, cleaner neighborhoods could be the same price, it all depends. In my opinion, I would choose any neighborhood from the median cost and up and one of the best to live in. This would give whoever is living there at least the average or higher attributes of a 'best' neighborhood. "
   ]
  },
  {
   "cell_type": "code",
   "execution_count": null,
   "metadata": {},
   "outputs": [],
   "source": []
  }
 ],
 "metadata": {
  "kernelspec": {
   "display_name": "Python 3",
   "language": "python",
   "name": "python3"
  },
  "language_info": {
   "codemirror_mode": {
    "name": "ipython",
    "version": 3
   },
   "file_extension": ".py",
   "mimetype": "text/x-python",
   "name": "python",
   "nbconvert_exporter": "python",
   "pygments_lexer": "ipython3",
   "version": "3.8.3"
  }
 },
 "nbformat": 4,
 "nbformat_minor": 4
}
