{
 "cells": [
  {
   "cell_type": "markdown",
   "metadata": {},
   "source": [
    "# Police Firearm Seizures"
   ]
  },
  {
   "cell_type": "markdown",
   "metadata": {},
   "source": [
    "This notebook contains data from the data set with regards to the amount of firearms seized in each neighborhood."
   ]
  },
  {
   "cell_type": "code",
   "execution_count": 29,
   "metadata": {},
   "outputs": [],
   "source": [
    "#Load pandas\n",
    "import pandas as pd\n",
    "\n",
    "#Load Data\n",
    "firearm_seizures = pd.read_csv(\"Police Firearm Seizures.csv\", index_col = \"neighborhood\")\n",
    "\n",
    "pd.set_option('display.max_rows', None)"
   ]
  },
  {
   "cell_type": "code",
   "execution_count": 34,
   "metadata": {},
   "outputs": [
    {
     "name": "stdout",
     "output_type": "stream",
     "text": [
      "neighborhood\n",
      "Allegheny Center              13\n",
      "Allegheny West                16\n",
      "Allentown                     82\n",
      "Arlington                     35\n",
      "Arlington Heights             10\n",
      "Banksville                     8\n",
      "Bedford Dwellings             72\n",
      "Beechview                     79\n",
      "Beltzhoover                   43\n",
      "Bloomfield                    47\n",
      "Bluff                         49\n",
      "Bon Air                       11\n",
      "Brighton Heights             129\n",
      "Brookline                     70\n",
      "California-Kirkbride          23\n",
      "Carrick                      131\n",
      "Central Business District    110\n",
      "Central Lawrenceville         23\n",
      "Central Northside             76\n",
      "Central Oakland               18\n",
      "Chartiers City                 4\n",
      "Chateau                       22\n",
      "Crafton Heights               52\n",
      "Crawford-Roberts              47\n",
      "Duquesne Heights              17\n",
      "East Allegheny                47\n",
      "East Hills                   107\n",
      "East Liberty                 138\n",
      "Elliott                       52\n",
      "Esplen                         9\n",
      "Fairywood                      7\n",
      "Fineview                      58\n",
      "Friendship                     5\n",
      "Garfield                      82\n",
      "Glen Hazel                    14\n",
      "Greenfield                    22\n",
      "Hays                           6\n",
      "Hazelwood                    129\n",
      "Highland Park                 38\n",
      "Homewood North               138\n",
      "Homewood South               298\n",
      "Homewood West                 51\n",
      "Knoxville                     94\n",
      "Larimer                      116\n",
      "Lincoln Place                  6\n",
      "Lincoln-Lemington-Belmar     118\n",
      "Lower Lawrenceville           15\n",
      "Manchester                    66\n",
      "Marshall-Shadeland           122\n",
      "Middle Hill                   84\n",
      "Morningside                   25\n",
      "Mount Oliver Borough           8\n",
      "Mount Washington              80\n",
      "Mt. Oliver                     3\n",
      "North Oakland                 19\n",
      "North Shore                   16\n",
      "Northview Heights             56\n",
      "Oakwood                        3\n",
      "Overbrook                     23\n",
      "Perry North                   41\n",
      "Perry South                  117\n",
      "Point Breeze                  25\n",
      "Point Breeze North            18\n",
      "Polish Hill                    9\n",
      "Regent Square                  3\n",
      "Shadyside                     23\n",
      "Sheraden                     106\n",
      "South Oakland                 18\n",
      "South Shore                   10\n",
      "South Side Flats             172\n",
      "South Side Slopes             38\n",
      "Spring Garden                 10\n",
      "Spring Hill-City View         65\n",
      "Squirrel Hill North           14\n",
      "Squirrel Hill South           36\n",
      "St. Clair                      7\n",
      "Stanton Heights               11\n",
      "Strip District                22\n",
      "Summer Hill                    3\n",
      "Swisshelm Park                 3\n",
      "Terrace Village               40\n",
      "Troy Hill                     38\n",
      "Upper Hill                    27\n",
      "Upper Lawrenceville           14\n",
      "West End                       4\n",
      "West Oakland                  13\n",
      "Westwood                       9\n",
      "Windgap                       12\n",
      "Name: total_count, dtype: int64\n"
     ]
    }
   ],
   "source": [
    "#Data set has some houses listed as 'NaN',\n",
    "#in order to keep the data useable these\n",
    "#are removed to allow for more accuracy\n",
    "firearm_seizures.dropna(subset = [\"fire_zone\"], inplace=True)\n",
    "\n",
    "#Sort data by the neighborhood and then by\n",
    "#the sum firearm seizures for each\n",
    "firearm_seizures_groupby = firearm_seizures.groupby('neighborhood')['total_count'].sum()\n",
    "\n",
    "print(firearm_seizures_groupby)"
   ]
  },
  {
   "cell_type": "markdown",
   "metadata": {},
   "source": [
    "## Neighborhood With the Lowest Firearm Seizures"
   ]
  },
  {
   "cell_type": "code",
   "execution_count": 35,
   "metadata": {},
   "outputs": [
    {
     "name": "stdout",
     "output_type": "stream",
     "text": [
      "Mt. Oliver has the lowest amount of firearm seizures with  3 seizures.\n"
     ]
    }
   ],
   "source": [
    "print(firearm_seizures_groupby.idxmin(), 'has the lowest amount of firearm seizures with ', firearm_seizures_groupby.min(), 'seizures.')"
   ]
  },
  {
   "cell_type": "markdown",
   "metadata": {},
   "source": [
    "## Neighborhood With the Highest Firearm Seizures"
   ]
  },
  {
   "cell_type": "code",
   "execution_count": 36,
   "metadata": {},
   "outputs": [
    {
     "name": "stdout",
     "output_type": "stream",
     "text": [
      "Homewood South has the highest amount of firearm seizures with  298 seizures.\n"
     ]
    }
   ],
   "source": [
    "print(firearm_seizures_groupby.idxmax(), 'has the highest amount of firearm seizures with ', firearm_seizures_groupby.max(), 'seizures.')"
   ]
  },
  {
   "cell_type": "markdown",
   "metadata": {},
   "source": [
    "## Data Limitations\n",
    "\n",
    "The data set used for this notebook contains mainly statistical information about the amount of firearm seizures. This is helpful in the context of wanting to know how many events took place. The data set lacks in the category of descriptive data. With each event, the viewer is unable to know how drastic the seizure of the firearm was. This could mislead viewers into choosing a neighborhood with less seizures, but not knowing how bad those are."
   ]
  },
  {
   "cell_type": "markdown",
   "metadata": {},
   "source": [
    "## Conclusion\n",
    "\n",
    "Most can agree that living in a neighborhood with less weapons is the ideal condition. Very few people would enjoy knowing a weapon worth being seized is around them, *this does not include legal weapons*. In order to keep the ones around to safe and future people, such as children, the safest place to live would be **Mt. Oliver**. To avoid the chance of having a connection to a weapon, one should not live in **Homewood South** because of the high total of firearm seizures.   "
   ]
  },
  {
   "cell_type": "code",
   "execution_count": null,
   "metadata": {},
   "outputs": [],
   "source": []
  }
 ],
 "metadata": {
  "kernelspec": {
   "display_name": "Python 3",
   "language": "python",
   "name": "python3"
  },
  "language_info": {
   "codemirror_mode": {
    "name": "ipython",
    "version": 3
   },
   "file_extension": ".py",
   "mimetype": "text/x-python",
   "name": "python",
   "nbconvert_exporter": "python",
   "pygments_lexer": "ipython3",
   "version": "3.8.3"
  }
 },
 "nbformat": 4,
 "nbformat_minor": 4
}
